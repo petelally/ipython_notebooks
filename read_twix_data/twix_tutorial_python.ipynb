{
 "cells": [
  {
   "cell_type": "markdown",
   "id": "6427c59c-3301-4737-a457-d8ba1b5d1d54",
   "metadata": {},
   "source": [
    "# Loading in twix data\n",
    "*A short tutorial on how to load multi-coil twix data using mapVBVD, with an example from a phase cycled bSSFP experiment*\n",
    "\n",
    "Step 1: import the mapVBVD package and read the .dat file ('twix' file)"
   ]
  },
  {
   "cell_type": "code",
   "execution_count": null,
   "id": "c91b3181-b708-4d78-aec8-e0b42e787cd9",
   "metadata": {},
   "outputs": [
    {
     "name": "stdout",
     "output_type": "stream",
     "text": [
      "pymapVBVD version 0+unknown\n",
      "Software version: VB\n"
     ]
    },
    {
     "data": {
      "application/vnd.jupyter.widget-view+json": {
       "model_id": "",
       "version_major": 2,
       "version_minor": 0
      },
      "text/plain": [
       "Scan 1/1, read all mdhs:   0%|          | 0.00/33.6M [00:00<?, ?B/s]"
      ]
     },
     "metadata": {},
     "output_type": "display_data"
    }
   ],
   "source": [
    "import mapvbvd\n",
    "\n",
    "twix = mapvbvd.mapVBVD(\"meas_MID308_low_res_2dflash_FID17297.dat\");"
   ]
  },
  {
   "cell_type": "markdown",
   "id": "62fe793d-cf13-4d8f-8841-fde24ee5c01d",
   "metadata": {},
   "source": [
    "Step 2: read image data from the twix file"
   ]
  },
  {
   "cell_type": "code",
   "execution_count": 7,
   "id": "0a562264-3081-45e4-b95c-5c0a7b441396",
   "metadata": {},
   "outputs": [
    {
     "data": {
      "application/vnd.jupyter.widget-view+json": {
       "model_id": "",
       "version_major": 2,
       "version_minor": 0
      },
      "text/plain": [
       "read data:   0%|          | 0/256 [00:00<?, ?it/s]"
      ]
     },
     "metadata": {},
     "output_type": "display_data"
    }
   ],
   "source": [
    "data = twix.image[''];"
   ]
  },
  {
   "cell_type": "markdown",
   "id": "86096887-2113-4e5b-8b9f-a0d48d87923d",
   "metadata": {},
   "source": [
    "Step 3: check the dimensions of the dataset"
   ]
  },
  {
   "cell_type": "code",
   "execution_count": 8,
   "id": "80f35295-4c73-4db1-bf98-82c4e518123b",
   "metadata": {},
   "outputs": [],
   "source": [
    "data.shape"
   ]
  },
  {
   "cell_type": "markdown",
   "id": "3b22cc05-574b-4502-aae4-3e7038d72426",
   "metadata": {},
   "source": [
    "At the scanner, we ran a 256x256 acquisition with a 32 channel head coil (i.e. 32 coil elements).\n",
    "\n",
    "Step 4: display the image data from a user-selected coil element"
   ]
  },
  {
   "cell_type": "code",
   "execution_count": 8,
   "id": "23ea53a3-8b76-4c07-a07b-210145927e1f",
   "metadata": {},
   "outputs": [],
   "source": [
    "coil_no = 30;   # Choose coil number out of 32 coils\n",
    "\n",
    "import numpy as np\n",
    "import matplotlib.pyplot as plt\n",
    "\n",
    "d = np.squeeze(np.array(data))\n",
    "plt.imshow(np.abs(np.fft.fftshift(np.fft.ifft2(np.fft.ifftshift(np.squeeze(d[:,coil_no,:,]))))))"
   ]
  },
  {
   "cell_type": "code",
   "execution_count": null,
   "id": "5b0058c9-0e84-478e-b5ae-2433a39e1b50",
   "metadata": {},
   "outputs": [],
   "source": []
  }
 ],
 "metadata": {
  "kernelspec": {
   "display_name": "Python 3 (ipykernel)",
   "language": "python",
   "name": "python3"
  },
  "language_info": {
   "codemirror_mode": {
    "name": "ipython",
    "version": 3
   },
   "file_extension": ".py",
   "mimetype": "text/x-python",
   "name": "python",
   "nbconvert_exporter": "python",
   "pygments_lexer": "ipython3",
   "version": "3.8.12"
  }
 },
 "nbformat": 4,
 "nbformat_minor": 5
}
